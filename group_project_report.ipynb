{
 "cells": [
  {
   "cell_type": "code",
   "execution_count": 2,
   "id": "9676f713-6811-440d-a707-f620a8c279eb",
   "metadata": {
    "tags": []
   },
   "outputs": [
    {
     "data": {
      "text/html": [
       "'hellooooo'"
      ],
      "text/latex": [
       "'hellooooo'"
      ],
      "text/markdown": [
       "'hellooooo'"
      ],
      "text/plain": [
       "[1] \"hellooooo\""
      ]
     },
     "metadata": {},
     "output_type": "display_data"
    }
   ],
   "source": [
    "\"hellooooo\""
   ]
  },
  {
   "cell_type": "code",
   "execution_count": null,
   "id": "f3a2cfac-9f1f-4086-9f87-9a28cc628eaf",
   "metadata": {},
   "outputs": [],
   "source": []
  }
 ],
 "metadata": {
  "kernelspec": {
   "display_name": "R",
   "language": "R",
   "name": "ir"
  },
  "language_info": {
   "codemirror_mode": "r",
   "file_extension": ".r",
   "mimetype": "text/x-r-source",
   "name": "R",
   "pygments_lexer": "r",
   "version": "4.2.2"
  }
 },
 "nbformat": 4,
 "nbformat_minor": 5
}
